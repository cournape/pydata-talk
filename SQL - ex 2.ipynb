{
 "metadata": {
  "name": "SQL - ex 2"
 }, 
 "nbformat": 2, 
 "worksheets": [
  {
   "cells": [
    {
     "cell_type": "code", 
     "collapsed": false, 
     "input": [
      "import sqlite3", 
      "import csv", 
      "", 
      "# Create a database in memory", 
      "db = sqlite3.connect(\":memory:\")", 
      "c = db.cursor()", 
      "", 
      "c.execute(\"CREATE TABLE cities (id INT PRIMARY KEY, name STRING(30), state_id INTEGER, population INTEGER)\")", 
      "c.execute(\"CREATE TABLE states (id INT PRIMARY KEY, name STRING(30))\")"
     ], 
     "language": "python", 
     "outputs": [
      {
       "output_type": "pyout", 
       "prompt_number": 1, 
       "text": [
        "&lt;sqlite3.Cursor at 0x101ec4650&gt;"
       ]
      }
     ], 
     "prompt_number": 1
    }, 
    {
     "cell_type": "code", 
     "collapsed": true, 
     "input": [
      "with open(\"states_only.csv\") as fid:", 
      "    reader = csv.reader(fid)", 
      "    for i, (state,) in enumerate(reader):", 
      "        c.execute(\"INSERT INTO states VALUES(?, ?)\", (i, state))"
     ], 
     "language": "python", 
     "outputs": [], 
     "prompt_number": 2
    }, 
    {
     "cell_type": "code", 
     "collapsed": true, 
     "input": [
      "with open(\"cities_only.csv\") as fid:", 
      "    reader = csv.reader(fid)", 
      "    for i, (name, state_id, population) in enumerate(reader):", 
      "        c.execute(\"INSERT INTO cities VALUES(?, ?, ?, ?)\", (i, name, state_id, population))"
     ], 
     "language": "python", 
     "outputs": [], 
     "prompt_number": 3
    }, 
    {
     "cell_type": "code", 
     "collapsed": false, 
     "input": [
      "# retrieve every recorded city from Texas.", 
      "# Note that the order is undefined: may be insertion order (or not)", 
      "c.execute(\"SELECT cities.name, cities.population FROM cities, states WHERE cities.state_id = states.id AND states.name = 'Tex.'\").fetchall()"
     ], 
     "language": "python", 
     "outputs": [
      {
       "output_type": "pyout", 
       "prompt_number": 4, 
       "text": [
        "[(u&apos;Houston&apos;, 2099451),", 
        " (u&apos;San Antonio&apos;, 1327407),", 
        " (u&apos;Dallas&apos;, 1197816),", 
        " (u&apos;Austin&apos;, 790390),", 
        " (u&apos;Fort Worth&apos;, 741206),", 
        " (u&apos;El Paso&apos;, 649121),", 
        " (u&apos;Arlington&apos;, 365438)]"
       ]
      }
     ], 
     "prompt_number": 4
    }, 
    {
     "cell_type": "code", 
     "collapsed": true, 
     "input": [], 
     "language": "python", 
     "outputs": [], 
     "prompt_number": "&nbsp;"
    }
   ]
  }
 ]
}