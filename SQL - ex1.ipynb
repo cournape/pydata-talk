{
 "metadata": {
  "name": "SQL - ex1"
 }, 
 "nbformat": 2, 
 "worksheets": [
  {
   "cells": [
    {
     "cell_type": "code", 
     "collapsed": false, 
     "input": [
      "import sqlite3", 
      "", 
      "# Create a database in memory", 
      "db = sqlite3.connect(\":memory:\")", 
      "# A cursor allows to iterate over results of a database table, etc...", 
      "c = db.cursor()", 
      "", 
      "# Create a simple table for American cities", 
      "#  - each column has a type", 
      "#  - the column id will uniquely identify each row (\"primary key\")", 
      "#  - databases often require a max length for string type", 
      "c.execute(\"CREATE TABLE cities (id INT PRIMARY KEY, city STRING(3), state STRING(20), population INTEGER)\")", 
      "", 
      "c.execute(\"INSERT INTO cities VALUES (1, 'New York', 'N.Y.', 8175133)\")"
     ], 
     "language": "python", 
     "outputs": [
      {
       "output_type": "pyout", 
       "prompt_number": 15, 
       "text": [
        "&lt;sqlite3.Cursor at 0x101d6bb90&gt;"
       ]
      }
     ], 
     "prompt_number": 15
    }, 
    {
     "cell_type": "code", 
     "collapsed": false, 
     "input": [
      "# Add more cities", 
      "c.execute(\"INSERT INTO cities VALUES (2, 'Los Angeles', 'Calif', 3792621)\")", 
      "c.execute(\"INSERT INTO cities VALUES (3, 'Chicago', 'Ill.', 2695598)\")", 
      "c.execute(\"INSERT INTO cities VALUES (4, 'Houston', 'Tex.', 2099451)\")", 
      "c.execute(\"INSERT INTO cities VALUES (5, 'Philadelphia', 'Pa.', 1526006)\")", 
      "c.execute(\"INSERT INTO cities VALUES (6, 'Phoenix', 'Ariz.', 1445662)\")", 
      "c.execute(\"INSERT INTO cities VALUES (7, 'San Antonio', 'Tex.', 1327405)\")"
     ], 
     "language": "python", 
     "outputs": [
      {
       "output_type": "pyout", 
       "prompt_number": 16, 
       "text": [
        "&lt;sqlite3.Cursor at 0x101d6bb90&gt;"
       ]
      }
     ], 
     "prompt_number": 16
    }, 
    {
     "cell_type": "code", 
     "collapsed": false, 
     "input": [
      "# queries number of cities", 
      "res = c.execute(\"SELECT COUNT(*) FROM cities\")", 
      "# Return the first result", 
      "print res.fetchone()"
     ], 
     "language": "python", 
     "outputs": [
      {
       "output_type": "stream", 
       "stream": "stdout", 
       "text": [
        "(7,)"
       ]
      }
     ], 
     "prompt_number": 17
    }, 
    {
     "cell_type": "code", 
     "collapsed": false, 
     "input": [
      "# queries cities from Texas", 
      "res = c.execute(\"SELECT * FROM cities WHERE state = 'Tex.'\")", 
      "# fetchall will iterate over every result", 
      "print res.fetchall()"
     ], 
     "language": "python", 
     "outputs": [
      {
       "output_type": "stream", 
       "stream": "stdout", 
       "text": [
        "[(4, u&apos;Houston&apos;, u&apos;Tex.&apos;, 2099451), (7, u&apos;San Antonio&apos;, u&apos;Tex.&apos;, 1327405)]"
       ]
      }
     ], 
     "prompt_number": 18
    }, 
    {
     "cell_type": "code", 
     "collapsed": false, 
     "input": [
      "# queries subset of columns", 
      "c = db.execute(\"SELECT city FROM cities WHERE state = 'Tex.'\")", 
      "print c.fetchall()"
     ], 
     "language": "python", 
     "outputs": [
      {
       "output_type": "stream", 
       "stream": "stdout", 
       "text": [
        "[(u&apos;Houston&apos;,), (u&apos;San Antonio&apos;,)]"
       ]
      }
     ], 
     "prompt_number": 19
    }, 
    {
     "cell_type": "code", 
     "collapsed": false, 
     "input": [
      "# Delete a city", 
      "c.execute(\"DELETE FROM cities WHERE id = 1\")", 
      "# queries number of cities - should be one less than before", 
      "res = c.execute(\"SELECT COUNT(*) FROM cities\")", 
      "print res.fetchall()"
     ], 
     "language": "python", 
     "outputs": [
      {
       "output_type": "stream", 
       "stream": "stdout", 
       "text": [
        "[(6,)]"
       ]
      }
     ], 
     "prompt_number": 20
    }, 
    {
     "cell_type": "code", 
     "collapsed": false, 
     "input": [
      "# Modify a city's population", 
      "c.execute(\"UPDATE cities SET population = 1000 WHERE id = 2\")", 
      "print c.execute(\"SELECT population FROM cities WHERE id = 2\").fetchone()"
     ], 
     "language": "python", 
     "outputs": [
      {
       "output_type": "stream", 
       "stream": "stdout", 
       "text": [
        "(1000,)"
       ]
      }
     ], 
     "prompt_number": 28
    }, 
    {
     "cell_type": "code", 
     "collapsed": false, 
     "input": [
      "# Same, but using bound parameters", 
      "c.execute(\"UPDATE cities SET population = ? WHERE id = ?\", (3792621, 2))", 
      "print c.execute(\"SELECT population FROM cities WHERE id = ?\", (2,)).fetchone()"
     ], 
     "language": "python", 
     "outputs": [
      {
       "output_type": "stream", 
       "stream": "stdout", 
       "text": [
        "(3792621,)"
       ]
      }
     ], 
     "prompt_number": 31
    }, 
    {
     "cell_type": "code", 
     "collapsed": true, 
     "input": [], 
     "language": "python", 
     "outputs": [], 
     "prompt_number": "&nbsp;"
    }
   ]
  }
 ]
}