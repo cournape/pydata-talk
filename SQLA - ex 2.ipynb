{
 "metadata": {
  "name": "SQLA - ex 2"
 }, 
 "nbformat": 2, 
 "worksheets": [
  {
   "cells": [
    {
     "cell_type": "code", 
     "collapsed": true, 
     "input": [
      "import csv", 
      "", 
      "import sqlalchemy", 
      "from sqlalchemy import Integer, String, Column", 
      "from sqlalchemy.orm import sessionmaker, relationship", 
      "from sqlalchemy.ext.declarative import declarative_base", 
      "from sqlalchemy import and_, func, sql", 
      "", 
      "Base = declarative_base()", 
      "", 
      "class State(Base):", 
      "    __tablename__ = \"state\"", 
      "", 
      "    id = Column(\"id\", Integer, primary_key=True)", 
      "    name = Column(\"name\", String(30))", 
      "", 
      "    def __repr__(self):", 
      "        return \"State(name={0})\".format(self.name)", 
      "", 
      "class City(Base):", 
      "    __tablename__ = \"city\"", 
      "", 
      "    id = Column(\"id\", Integer, primary_key=True)", 
      "    name = Column(\"name\", String(30))", 
      "    state_id = Column(\"state_id\", Integer)", 
      "    population = Column(\"population\", Integer)", 
      "", 
      "    def __repr__(self):", 
      "        return \"City(name={0}, population={1})\".format(self.name, self.population)"
     ], 
     "language": "python", 
     "outputs": [], 
     "prompt_number": 1
    }, 
    {
     "cell_type": "code", 
     "collapsed": true, 
     "input": [
      "db = sqlalchemy.create_engine(\"sqlite://\", echo=False)", 
      "Base.metadata.create_all(db)", 
      "# sessionmaker is a class factory (keep one per process)", 
      "Session = sessionmaker(bind=db)", 
      "session = Session()"
     ], 
     "language": "python", 
     "outputs": [], 
     "prompt_number": 2
    }, 
    {
     "cell_type": "code", 
     "collapsed": true, 
     "input": [
      "with open(\"states_only.csv\") as fid:", 
      "    reader = csv.reader(fid)", 
      "    for i, (name,) in enumerate(reader):", 
      "        state = State(name=name, id=i)", 
      "        session.add(state)", 
      "", 
      "with open(\"cities_only.csv\") as fid:", 
      "    reader = csv.reader(fid)", 
      "    for i, (name, state_id, population) in enumerate(reader):", 
      "        city = City(name=name, state_id=state_id, population=population)", 
      "        session.add(city)", 
      "# objects are not written to DB before committing", 
      "session.commit()"
     ], 
     "language": "python", 
     "outputs": [], 
     "prompt_number": 3
    }, 
    {
     "cell_type": "code", 
     "collapsed": false, 
     "input": [
      "cities = session.query(City).all()", 
      "# Note that state is taken from the city table (lazy-loaded)", 
      "cities[0].name, cities[0].state_id"
     ], 
     "language": "python", 
     "outputs": [
      {
       "output_type": "pyout", 
       "prompt_number": 4, 
       "text": [
        "(u&apos;New York&apos;, 28)"
       ]
      }
     ], 
     "prompt_number": 4
    }, 
    {
     "cell_type": "code", 
     "collapsed": false, 
     "input": [
      "texas_cities = session.query(City, State).filter(City.state_id==State.id).filter(State.name==\"Tex.\").all()", 
      "texas_cities"
     ], 
     "language": "python", 
     "outputs": [
      {
       "output_type": "pyout", 
       "prompt_number": 10, 
       "text": [
        "[(City(name=Houston, population=2099451), State(name=Tex.)),", 
        " (City(name=San Antonio, population=1327407), State(name=Tex.)),", 
        " (City(name=Dallas, population=1197816), State(name=Tex.)),", 
        " (City(name=Austin, population=790390), State(name=Tex.)),", 
        " (City(name=Fort Worth, population=741206), State(name=Tex.)),", 
        " (City(name=El Paso, population=649121), State(name=Tex.)),", 
        " (City(name=Arlington, population=365438), State(name=Tex.))]"
       ]
      }
     ], 
     "prompt_number": 10
    }, 
    {
     "cell_type": "code", 
     "collapsed": true, 
     "input": [], 
     "language": "python", 
     "outputs": [], 
     "prompt_number": "&nbsp;"
    }
   ]
  }
 ]
}