{
 "metadata": {
  "name": "SQLA - ex 3"
 }, 
 "nbformat": 2, 
 "worksheets": [
  {
   "cells": [
    {
     "cell_type": "code", 
     "collapsed": true, 
     "input": [
      "import csv", 
      "", 
      "import sqlalchemy", 
      "from sqlalchemy import Integer, String, Column", 
      "from sqlalchemy.orm import sessionmaker, relationship", 
      "from sqlalchemy.ext.declarative import declarative_base", 
      "from sqlalchemy import and_, func, sql", 
      "", 
      "Base = declarative_base()", 
      "", 
      "class State(Base):", 
      "    __tablename__ = \"state\"", 
      "", 
      "    id = Column(\"id\", Integer, primary_key=True)", 
      "    name = Column(\"name\", String(30))", 
      "", 
      "    def __repr__(self):", 
      "        return \"State(name={0})\".format(self.name)", 
      "", 
      "class City(Base):", 
      "    __tablename__ = \"city\"", 
      "", 
      "    id = Column(\"id\", Integer, primary_key=True)", 
      "    name = Column(\"name\", String(30))", 
      "    state_id = Column(\"state_id\", Integer)", 
      "    population = Column(\"population\", Integer)", 
      "", 
      "    state = relationship(State,", 
      "                         primaryjoin=state_id==State.id,", 
      "                         foreign_keys=State.id, uselist=False)", 
      "", 
      "    def __repr__(self):", 
      "        return \"City(name={0}, population={1})\".format(self.name, self.population)"
     ], 
     "language": "python", 
     "outputs": [], 
     "prompt_number": 5
    }, 
    {
     "cell_type": "code", 
     "collapsed": true, 
     "input": [
      "db = sqlalchemy.create_engine(\"sqlite://\", echo=False)", 
      "Base.metadata.create_all(db)", 
      "# sessionmaker is a class factory (keep one per process)", 
      "Session = sessionmaker(bind=db)", 
      "session = Session()"
     ], 
     "language": "python", 
     "outputs": [], 
     "prompt_number": 6
    }, 
    {
     "cell_type": "code", 
     "collapsed": false, 
     "input": [
      "with open(\"states_only.csv\") as fid:", 
      "    reader = csv.reader(fid)", 
      "    for i, (name,) in enumerate(reader):", 
      "        state = State(name=name, id=i)", 
      "        session.add(state)", 
      "", 
      "with open(\"cities_only.csv\") as fid:", 
      "    reader = csv.reader(fid)", 
      "    for i, (name, state_id, population) in enumerate(reader):", 
      "        city = City(name=name, state_id=state_id, population=population)", 
      "        session.add(city)", 
      "# objects are not written to DB before committing", 
      "session.commit()"
     ], 
     "language": "python", 
     "outputs": [], 
     "prompt_number": 7
    }, 
    {
     "cell_type": "code", 
     "collapsed": false, 
     "input": [
      "cities = session.query(City).all()", 
      "# Note that state is taken from the city table (lazy-loaded)", 
      "cities[0].name, cities[0].state"
     ], 
     "language": "python", 
     "outputs": [
      {
       "output_type": "pyout", 
       "prompt_number": 8, 
       "text": [
        "(u&apos;New York&apos;, State(name=N.Y.))"
       ]
      }
     ], 
     "prompt_number": 8
    }, 
    {
     "cell_type": "code", 
     "collapsed": true, 
     "input": [
      "city = session.query(City).filter(City.name=='New York').one()", 
      "city.population = 9000000", 
      "session.commit()"
     ], 
     "language": "python", 
     "outputs": [], 
     "prompt_number": 9
    }, 
    {
     "cell_type": "code", 
     "collapsed": true, 
     "input": [
      "# Try modifying state name, selecting with other condition"
     ], 
     "language": "python", 
     "outputs": [], 
     "prompt_number": 34
    }, 
    {
     "cell_type": "code", 
     "collapsed": true, 
     "input": [], 
     "language": "python", 
     "outputs": [], 
     "prompt_number": "&nbsp;"
    }
   ]
  }
 ]
}