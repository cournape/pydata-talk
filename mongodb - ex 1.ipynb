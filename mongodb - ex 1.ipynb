{
 "metadata": {
  "name": "mongodb - ex 1"
 }, 
 "nbformat": 2, 
 "worksheets": [
  {
   "cells": [
    {
     "cell_type": "code", 
     "collapsed": false, 
     "input": [
      "import pymongo", 
      "cx = pymongo.Connection(host=\"172.16.90.189\")"
     ], 
     "language": "python", 
     "outputs": [], 
     "prompt_number": 24
    }, 
    {
     "cell_type": "code", 
     "collapsed": false, 
     "input": [
      "# Create a database called \"test_database\"", 
      "test = cx.test_database", 
      "# Each database can have multiple collections", 
      "collection1 = test.collection1", 
      "# BEWARE: remove the whole collection", 
      "collection1.drop()"
     ], 
     "language": "python", 
     "outputs": [], 
     "prompt_number": 25
    }, 
    {
     "cell_type": "code", 
     "collapsed": false, 
     "input": [
      "data = [(\"Tokyo\", 36669000), (\"Delhi\", 22157000), (\"Sao Paulo\", 20262000), (\"Mumbai\", 20041000), (\"Mexico City\", 19460000)]", 
      "for name, population in data:", 
      "    collection1.insert({\"name\": name, \"population\": population})"
     ], 
     "language": "python", 
     "outputs": [], 
     "prompt_number": 26
    }, 
    {
     "cell_type": "code", 
     "collapsed": false, 
     "input": [
      "for city in collection1.find({\"population\": {\"$lt\": 22000000}}):", 
      "    print city"
     ], 
     "language": "python", 
     "outputs": [
      {
       "output_type": "stream", 
       "stream": "stdout", 
       "text": [
        "{u&apos;_id&apos;: ObjectId(&apos;4f5239fd8b391f2fbc000013&apos;), u&apos;name&apos;: u&apos;Sao Paulo&apos;, u&apos;population&apos;: 20262000}", 
        "{u&apos;_id&apos;: ObjectId(&apos;4f5239fd8b391f2fbc000014&apos;), u&apos;name&apos;: u&apos;Mumbai&apos;, u&apos;population&apos;: 20041000}", 
        "{u&apos;_id&apos;: ObjectId(&apos;4f5239fd8b391f2fbc000015&apos;), u&apos;name&apos;: u&apos;Mexico City&apos;, u&apos;population&apos;: 19460000}"
       ]
      }
     ], 
     "prompt_number": 27
    }, 
    {
     "cell_type": "code", 
     "collapsed": false, 
     "input": [
      "# Retrieve a subset of fields", 
      "for city in collection1.find({\"population\": {\"$lt\": 22000000}}, fields=[\"name\"]):", 
      "    print city"
     ], 
     "language": "python", 
     "outputs": [
      {
       "output_type": "stream", 
       "stream": "stdout", 
       "text": [
        "{u&apos;_id&apos;: ObjectId(&apos;4f5239fd8b391f2fbc000013&apos;), u&apos;name&apos;: u&apos;Sao Paulo&apos;}", 
        "{u&apos;_id&apos;: ObjectId(&apos;4f5239fd8b391f2fbc000014&apos;), u&apos;name&apos;: u&apos;Mumbai&apos;}", 
        "{u&apos;_id&apos;: ObjectId(&apos;4f5239fd8b391f2fbc000015&apos;), u&apos;name&apos;: u&apos;Mexico City&apos;}"
       ]
      }
     ], 
     "prompt_number": 28
    }, 
    {
     "cell_type": "code", 
     "collapsed": false, 
     "input": [
      "collection1.insert({\"name\": \"New York\", \"populatio\": 19425000})", 
      "for city in collection1.find({\"population\": {\"$lt\": 22000000}}, fields=[\"name\"]):", 
      "    print city"
     ], 
     "language": "python", 
     "outputs": [
      {
       "output_type": "stream", 
       "stream": "stdout", 
       "text": [
        "{u&apos;_id&apos;: ObjectId(&apos;4f5239fd8b391f2fbc000013&apos;), u&apos;name&apos;: u&apos;Sao Paulo&apos;}", 
        "{u&apos;_id&apos;: ObjectId(&apos;4f5239fd8b391f2fbc000014&apos;), u&apos;name&apos;: u&apos;Mumbai&apos;}", 
        "{u&apos;_id&apos;: ObjectId(&apos;4f5239fd8b391f2fbc000015&apos;), u&apos;name&apos;: u&apos;Mexico City&apos;}"
       ]
      }
     ], 
     "prompt_number": 30
    }, 
    {
     "cell_type": "code", 
     "collapsed": true, 
     "input": [], 
     "language": "python", 
     "outputs": [], 
     "prompt_number": "&nbsp;"
    }
   ]
  }
 ]
}