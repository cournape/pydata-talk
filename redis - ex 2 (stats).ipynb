{
 "metadata": {
  "name": "redis - ex 2 (stats)"
 }, 
 "nbformat": 2, 
 "worksheets": [
  {
   "cells": [
    {
     "cell_type": "code", 
     "collapsed": false, 
     "input": [
      "import redis", 
      "", 
      "# Creating a connection to redis", 
      "db = redis.Redis(db=2)", 
      "# WARNING: remove all key/values in the current database", 
      "db.flushdb()"
     ], 
     "language": "python", 
     "outputs": [
      {
       "output_type": "pyout", 
       "prompt_number": 4, 
       "text": [
        "True"
       ]
      }
     ], 
     "prompt_number": 4
    }, 
    {
     "cell_type": "code", 
     "collapsed": false, 
     "input": [
      "# Structuring key so that one can build the key \"on-the-fly\"", 
      "db.set(\"process:server:1:cpu:01/01/2012\", 1)", 
      "db.set(\"process:server:1:cpu:02/01/2012\", 2)", 
      "db.set(\"process:server:1:cpu:03/01/2012\", 4)"
     ], 
     "language": "python", 
     "outputs": [
      {
       "output_type": "pyout", 
       "prompt_number": 6, 
       "text": [
        "True"
       ]
      }
     ], 
     "prompt_number": 6
    }, 
    {
     "cell_type": "code", 
     "collapsed": false, 
     "input": [
      "db.mget([\"process:server:1:cpu:%02d/01/2012\" % i for i in range(1, 10)])"
     ], 
     "language": "python", 
     "outputs": [
      {
       "output_type": "pyout", 
       "prompt_number": 12, 
       "text": [
        "[&apos;1&apos;, &apos;2&apos;, &apos;4&apos;, None, None, None, None, None, None]"
       ]
      }
     ], 
     "prompt_number": 12
    }
   ]
  }
 ]
}