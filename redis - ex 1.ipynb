{
 "metadata": {
  "name": "redis - ex 1"
 }, 
 "nbformat": 2, 
 "worksheets": [
  {
   "cells": [
    {
     "cell_type": "code", 
     "collapsed": false, 
     "input": [
      "import redis", 
      "", 
      "# Creating a connection to redis", 
      "db = redis.Redis()", 
      "# WARNING: remove all key/values in the current database", 
      "#db.flushdb()", 
      "# Simple key-value store API: set/get", 
      "db.set(\"foo\", 1)", 
      "print db.get(\"foo\")"
     ], 
     "language": "python", 
     "outputs": [
      {
       "output_type": "stream", 
       "stream": "stdout", 
       "text": [
        "1"
       ]
      }
     ], 
     "prompt_number": 9
    }, 
    {
     "cell_type": "code", 
     "collapsed": false, 
     "input": [
      "# Integer values can be incremented", 
      "db.incr(\"foo\")", 
      "print db.get(\"foo\")"
     ], 
     "language": "python", 
     "outputs": [
      {
       "output_type": "stream", 
       "stream": "stdout", 
       "text": [
        "2"
       ]
      }
     ], 
     "prompt_number": 10
    }, 
    {
     "cell_type": "code", 
     "collapsed": false, 
     "input": [
      "# list operation", 
      "db.lpush(\"bar\", 1)", 
      "db.lpush(\"bar\", 2)", 
      "db.rpush(\"bar\", 3)", 
      "db.lrange(\"bar\", 0, -1)"
     ], 
     "language": "python", 
     "outputs": [
      {
       "output_type": "pyout", 
       "prompt_number": 11, 
       "text": [
        "[&apos;2&apos;, &apos;1&apos;, &apos;3&apos;]"
       ]
      }
     ], 
     "prompt_number": 11
    }, 
    {
     "cell_type": "code", 
     "collapsed": true, 
     "input": [], 
     "language": "python", 
     "outputs": [], 
     "prompt_number": "&nbsp;"
    }
   ]
  }
 ]
}