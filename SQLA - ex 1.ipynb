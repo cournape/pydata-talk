{
 "metadata": {
  "name": "SQLA - ex 1"
 }, 
 "nbformat": 2, 
 "worksheets": [
  {
   "cells": [
    {
     "cell_type": "code", 
     "collapsed": true, 
     "input": [
      "import sqlalchemy", 
      "from sqlalchemy import Table, Column, Integer, String", 
      "from sqlalchemy import sql, func", 
      "", 
      "# Note the different way of creating in-memory databse", 
      "db = sqlalchemy.create_engine(\"sqlite://\")", 
      "meta_data = sqlalchemy.MetaData()", 
      "# Declare table 'by hand'", 
      "# autoincrement means that id will be created automatically for us if not provided", 
      "cities = Table(\"cities\", meta_data, Column(\"id\", Integer, primary_key=True, autoincrement=True),", 
      "        Column(\"name\", String(30)),", 
      "        Column(\"state\", String(10)),", 
      "        Column(\"population\", Integer))", 
      "meta_data.create_all(db)"
     ], 
     "language": "python", 
     "outputs": [], 
     "prompt_number": 8
    }, 
    {
     "cell_type": "code", 
     "collapsed": false, 
     "input": [
      "# Note that we can use dict instead of sequence: less chance of errors with column order", 
      "c = db.connect()", 
      "c.execute(cities.insert(), {\"name\": 'Los Angeles', \"state\": 'Calif', \"population\": 3792621})", 
      "c.execute(cities.insert(), {\"name\": 'Chicago', \"state\": 'Ill.', \"population\": 2695598})", 
      "c.execute(cities.insert(), {\"name\": 'Houston', \"state\": 'Tex.', \"population\": 2099451})", 
      "c.execute(cities.insert(), {\"name\": 'Philadelphia', \"state\": 'Pa.', \"population\": 1526006})", 
      "c.execute(cities.insert(), {\"name\": 'Phoenix', \"state\": 'Ariz.', \"population\": 1445662})", 
      "c.execute(cities.insert(), {\"name\": 'San Antonio', \"state\": 'Tex.', \"population\": 1327405})", 
      "# cities.c gives access to the columns through attribute selection", 
      "print c.execute(sql.select([cities.c.name])).fetchall()"
     ], 
     "language": "python", 
     "outputs": [
      {
       "output_type": "stream", 
       "stream": "stdout", 
       "text": [
        "[(u&apos;Los Angeles&apos;,), (u&apos;Chicago&apos;,), (u&apos;Houston&apos;,), (u&apos;Philadelphia&apos;,), (u&apos;Phoenix&apos;,), (u&apos;San Antonio&apos;,)]"
       ]
      }
     ], 
     "prompt_number": 9
    }, 
    {
     "cell_type": "code", 
     "collapsed": false, 
     "input": [
      "# Counting with SQLA", 
      "print c.execute(sql.select([cities.c.id]).count()).fetchone()", 
      "# Where conditions with SQLA", 
      "print c.execute(sql.select([cities.c.id]).where(cities.c.population > 2000000).count()).fetchone()"
     ], 
     "language": "python", 
     "outputs": [
      {
       "output_type": "stream", 
       "stream": "stdout", 
       "text": [
        "(6,)", 
        "(3,)"
       ]
      }
     ], 
     "prompt_number": 19
    }, 
    {
     "cell_type": "code", 
     "collapsed": false, 
     "input": [
      "# updating an existing row", 
      "c.execute(sql.update(cities).", 
      "              where(cities.c.id==2).", 
      "              values(population=1000))", 
      "c.execute(sql.select([cities]).where(cities.c.id==2)).fetchone()"
     ], 
     "language": "python", 
     "outputs": [
      {
       "output_type": "pyout", 
       "prompt_number": 24, 
       "text": [
        "(2, u&apos;Chicago&apos;, u&apos;Ill.&apos;, 1000)"
       ]
      }
     ], 
     "prompt_number": 24
    }, 
    {
     "cell_type": "code", 
     "collapsed": true, 
     "input": [], 
     "language": "python", 
     "outputs": [], 
     "prompt_number": "&nbsp;"
    }
   ]
  }
 ]
}